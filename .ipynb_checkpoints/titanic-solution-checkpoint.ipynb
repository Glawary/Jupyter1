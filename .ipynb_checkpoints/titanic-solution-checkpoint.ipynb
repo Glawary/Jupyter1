{
 "cells": [
  {
   "cell_type": "code",
   "execution_count": null,
   "metadata": {
    "_cell_guid": "b1076dfc-b9ad-4769-8c92-a6c4dae69d19",
    "_uuid": "8f2839f25d086af736a60e9eeb907d3b93b6e0e5",
    "execution": {
     "iopub.execute_input": "2022-07-12T07:50:21.76359Z",
     "iopub.status.busy": "2022-07-12T07:50:21.763004Z",
     "iopub.status.idle": "2022-07-12T07:50:21.815059Z",
     "shell.execute_reply": "2022-07-12T07:50:21.814298Z",
     "shell.execute_reply.started": "2022-07-12T07:50:21.76349Z"
    }
   },
   "outputs": [],
   "source": [
    "# This Python 3 environment comes with many helpful analytics libraries installed\n",
    "# It is defined by the kaggle/python Docker image: https://github.com/kaggle/docker-python\n",
    "# For example, here's several helpful packages to load\n",
    "\n",
    "import numpy as np # linear algebra\n",
    "import pandas as pd # data processing, CSV file I/O (e.g. pd.read_csv)\n",
    "\n",
    "# Input data files are available in the read-only \"../input/\" directory\n",
    "# For example, running this (by clicking run or pressing Shift+Enter) will list all files under the input directory\n",
    "\n",
    "import os\n",
    "for dirname, _, filenames in os.walk('/kaggle/input'):\n",
    "    for filename in filenames:\n",
    "        print(os.path.join(dirname, filename))\n",
    "\n",
    "# You can write up to 20GB to the current directory (/kaggle/working/) that gets preserved as output when you create a version using \"Save & Run All\" \n",
    "# You can also write temporary files to /kaggle/temp/, but they won't be saved outside of the current session"
   ]
  },
  {
   "cell_type": "markdown",
   "metadata": {},
   "source": [
    "**1.Loading modules:-**"
   ]
  },
  {
   "cell_type": "code",
   "execution_count": null,
   "metadata": {
    "execution": {
     "iopub.execute_input": "2022-07-12T07:53:41.774295Z",
     "iopub.status.busy": "2022-07-12T07:53:41.773883Z",
     "iopub.status.idle": "2022-07-12T07:53:41.800248Z",
     "shell.execute_reply": "2022-07-12T07:53:41.799035Z",
     "shell.execute_reply.started": "2022-07-12T07:53:41.774262Z"
    }
   },
   "outputs": [],
   "source": [
    "train_data = pd.read_csv(\"/kaggle/input/titanic/train.csv\")\n",
    "train_data.head()"
   ]
  },
  {
   "cell_type": "code",
   "execution_count": null,
   "metadata": {
    "execution": {
     "iopub.execute_input": "2022-07-12T07:53:54.601034Z",
     "iopub.status.busy": "2022-07-12T07:53:54.599972Z",
     "iopub.status.idle": "2022-07-12T07:53:54.62618Z",
     "shell.execute_reply": "2022-07-12T07:53:54.624838Z",
     "shell.execute_reply.started": "2022-07-12T07:53:54.600952Z"
    }
   },
   "outputs": [],
   "source": [
    "test_data = pd.read_csv(\"/kaggle/input/titanic/test.csv\")\n",
    "test_data.head()"
   ]
  },
  {
   "cell_type": "code",
   "execution_count": null,
   "metadata": {
    "execution": {
     "iopub.execute_input": "2022-07-12T07:54:11.106696Z",
     "iopub.status.busy": "2022-07-12T07:54:11.106338Z",
     "iopub.status.idle": "2022-07-12T07:54:11.12108Z",
     "shell.execute_reply": "2022-07-12T07:54:11.119598Z",
     "shell.execute_reply.started": "2022-07-12T07:54:11.106669Z"
    }
   },
   "outputs": [],
   "source": [
    "women = train_data.loc[train_data.Sex == 'female'][\"Survived\"]\n",
    "rate_women = sum(women)/len(women)\n",
    "\n",
    "print(\"% of women who survived:\", rate_women)"
   ]
  },
  {
   "cell_type": "code",
   "execution_count": null,
   "metadata": {
    "execution": {
     "iopub.execute_input": "2022-07-12T07:54:28.015572Z",
     "iopub.status.busy": "2022-07-12T07:54:28.014524Z",
     "iopub.status.idle": "2022-07-12T07:54:28.023283Z",
     "shell.execute_reply": "2022-07-12T07:54:28.022147Z",
     "shell.execute_reply.started": "2022-07-12T07:54:28.015534Z"
    }
   },
   "outputs": [],
   "source": [
    "men = train_data.loc[train_data.Sex == 'male'][\"Survived\"]\n",
    "rate_men = sum(men)/len(men)\n",
    "\n",
    "print(\"% of men who survived:\", rate_men)"
   ]
  },
  {
   "cell_type": "code",
   "execution_count": null,
   "metadata": {
    "execution": {
     "iopub.execute_input": "2022-07-12T07:54:39.46562Z",
     "iopub.status.busy": "2022-07-12T07:54:39.465204Z",
     "iopub.status.idle": "2022-07-12T07:54:39.703472Z",
     "shell.execute_reply": "2022-07-12T07:54:39.702233Z",
     "shell.execute_reply.started": "2022-07-12T07:54:39.465589Z"
    }
   },
   "outputs": [],
   "source": [
    "from sklearn.ensemble import RandomForestClassifier\n",
    "\n",
    "y = train_data[\"Survived\"]\n",
    "\n",
    "features = [\"Pclass\", \"Sex\", \"SibSp\", \"Parch\"]\n",
    "X = pd.get_dummies(train_data[features])\n",
    "X_test = pd.get_dummies(test_data[features])\n",
    "\n",
    "model = RandomForestClassifier(n_estimators=100, max_depth=5, random_state=1)\n",
    "model.fit(X, y)\n",
    "predictions = model.predict(X_test)\n",
    "\n",
    "output = pd.DataFrame({'PassengerId': test_data.PassengerId, 'Survived': predictions})\n",
    "output.to_csv('submission.csv', index=False)\n",
    "print(\"Your submission was successfully saved!\")"
   ]
  },
  {
   "cell_type": "code",
   "execution_count": 1,
   "metadata": {},
   "outputs": [],
   "source": [
    "import numpy as np"
   ]
  },
  {
   "cell_type": "code",
   "execution_count": null,
   "metadata": {},
   "outputs": [],
   "source": []
  }
 ],
 "metadata": {
  "kernelspec": {
   "display_name": "Python 3 (ipykernel)",
   "language": "python",
   "name": "python3"
  },
  "language_info": {
   "codemirror_mode": {
    "name": "ipython",
    "version": 3
   },
   "file_extension": ".py",
   "mimetype": "text/x-python",
   "name": "python",
   "nbconvert_exporter": "python",
   "pygments_lexer": "ipython3",
   "version": "3.8.10"
  }
 },
 "nbformat": 4,
 "nbformat_minor": 4
}
